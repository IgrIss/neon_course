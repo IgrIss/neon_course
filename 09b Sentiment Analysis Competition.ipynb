{
 "cells": [
  {
   "cell_type": "markdown",
   "metadata": {},
   "source": [
    "Competition: Sentiment Analysis\n",
    "==================================="
   ]
  },
  {
   "cell_type": "code",
   "execution_count": 1,
   "metadata": {
    "collapsed": false
   },
   "outputs": [],
   "source": [
    "from imdb import train_model\n",
    "from IPython.display import display"
   ]
  },
  {
   "cell_type": "code",
   "execution_count": 2,
   "metadata": {
    "collapsed": false
   },
   "outputs": [],
   "source": [
    "import ipywidgets as widgets\n",
    "\n",
    "f1 = widgets.FloatSlider(\n",
    "    value=7.5,\n",
    "    min=0.0001,\n",
    "    max=0.1,\n",
    "    step=0.0001,\n",
    "    description='Learning Rate:',\n",
    "    disabled=False,\n",
    "    continuous_update=False,\n",
    "    orientation='horizontal',\n",
    "    readout=True,\n",
    "    readout_format='.4f',\n",
    "    slider_color='white'\n",
    ")\n",
    "\n",
    "f2= widgets.FloatSlider(\n",
    "    value=7.5,\n",
    "    min=16,\n",
    "    max=256,\n",
    "    step=1,\n",
    "    description='Network Size:',\n",
    "    disabled=False,\n",
    "    continuous_update=False,\n",
    "    orientation='horizontal',\n",
    "    readout=True,\n",
    "    readout_format='.1f',\n",
    "    slider_color='white'\n",
    ")\n",
    "\n",
    "f3= widgets.FloatSlider(\n",
    "    value=5,\n",
    "    min=1,\n",
    "    max=10,\n",
    "    step=1,\n",
    "    description='Number of Epochs',\n",
    "    disabled=False,\n",
    "    continuous_update=False,\n",
    "    orientation='horizontal',\n",
    "    readout=True,\n",
    "    readout_format='.d',\n",
    "    slider_color='white'\n",
    ")\n",
    "\n",
    "display(f1)\n",
    "display(f2)\n",
    "display(f3)"
   ]
  },
  {
   "cell_type": "code",
   "execution_count": 3,
   "metadata": {
    "collapsed": false
   },
   "outputs": [
    {
     "data": {
      "text/html": [
       "\n",
       "\n",
       "    <script type=\"text/javascript\">\n",
       "      \n",
       "      (function(global) {\n",
       "        function now() {\n",
       "          return new Date();\n",
       "        }\n",
       "      \n",
       "        if (typeof (window._bokeh_onload_callbacks) === \"undefined\") {\n",
       "          window._bokeh_onload_callbacks = [];\n",
       "        }\n",
       "      \n",
       "        function run_callbacks() {\n",
       "          window._bokeh_onload_callbacks.forEach(function(callback) { callback() });\n",
       "          delete window._bokeh_onload_callbacks\n",
       "          console.info(\"Bokeh: all callbacks have finished\");\n",
       "        }\n",
       "      \n",
       "        function load_libs(js_urls, callback) {\n",
       "          window._bokeh_onload_callbacks.push(callback);\n",
       "          if (window._bokeh_is_loading > 0) {\n",
       "            console.log(\"Bokeh: BokehJS is being loaded, scheduling callback at\", now());\n",
       "            return null;\n",
       "          }\n",
       "          if (js_urls == null || js_urls.length === 0) {\n",
       "            run_callbacks();\n",
       "            return null;\n",
       "          }\n",
       "          console.log(\"Bokeh: BokehJS not loaded, scheduling load and callback at\", now());\n",
       "          window._bokeh_is_loading = js_urls.length;\n",
       "          for (var i = 0; i < js_urls.length; i++) {\n",
       "            var url = js_urls[i];\n",
       "            var s = document.createElement('script');\n",
       "            s.src = url;\n",
       "            s.async = false;\n",
       "            s.onreadystatechange = s.onload = function() {\n",
       "              window._bokeh_is_loading--;\n",
       "              if (window._bokeh_is_loading === 0) {\n",
       "                console.log(\"Bokeh: all BokehJS libraries loaded\");\n",
       "                run_callbacks()\n",
       "              }\n",
       "            };\n",
       "            s.onerror = function() {\n",
       "              console.warn(\"failed to load library \" + url);\n",
       "            };\n",
       "            console.log(\"Bokeh: injecting script tag for BokehJS library: \", url);\n",
       "            document.getElementsByTagName(\"head\")[0].appendChild(s);\n",
       "          }\n",
       "        };var js_urls = ['https://cdn.pydata.org/bokeh/release/bokeh-0.11.0.min.js', 'https://cdn.pydata.org/bokeh/release/bokeh-widgets-0.11.0.min.js', 'https://cdn.pydata.org/bokeh/release/bokeh-compiler-0.11.0.min.js'];\n",
       "      \n",
       "        var inline_js = [\n",
       "          function(Bokeh) {\n",
       "            Bokeh.set_log_level(\"info\");\n",
       "          },\n",
       "          function(Bokeh) {\n",
       "            console.log(\"Bokeh: injecting CSS: https://cdn.pydata.org/bokeh/release/bokeh-0.11.0.min.css\");\n",
       "            Bokeh.embed.inject_css(\"https://cdn.pydata.org/bokeh/release/bokeh-0.11.0.min.css\");\n",
       "            console.log(\"Bokeh: injecting CSS: https://cdn.pydata.org/bokeh/release/bokeh-widgets-0.11.0.min.css\");\n",
       "            Bokeh.embed.inject_css(\"https://cdn.pydata.org/bokeh/release/bokeh-widgets-0.11.0.min.css\");\n",
       "          }\n",
       "        ];\n",
       "      \n",
       "        function run_inline_js() {\n",
       "          for (var i = 0; i < inline_js.length; i++) {\n",
       "            inline_js[i](window.Bokeh);\n",
       "          }\n",
       "        }\n",
       "      \n",
       "        if (window._bokeh_is_loading === 0) {\n",
       "          console.log(\"Bokeh: BokehJS loaded, going straight to plotting\");\n",
       "          run_inline_js();\n",
       "        } else {\n",
       "          load_libs(js_urls, function() {\n",
       "            console.log(\"Bokeh: BokehJS plotting callback run at\", now());\n",
       "            run_inline_js();\n",
       "          });\n",
       "        }\n",
       "      }(this));\n",
       "    </script>\n",
       "    <div>\n",
       "        <a href=\"http://bokeh.pydata.org\" target=\"_blank\" class=\"bk-logo bk-logo-small bk-logo-notebook\"></a>\n",
       "        <span>BokehJS successfully loaded.</span>\n",
       "    </div>"
      ]
     },
     "metadata": {},
     "output_type": "display_data"
    },
    {
     "data": {
      "text/html": [
       "\n",
       "\n",
       "    <div class=\"plotdiv\" id=\"c3f91961-a5cd-4745-b384-eb636404c1fe\"></div>\n",
       "<script type=\"text/javascript\">\n",
       "  \n",
       "  (function(global) {\n",
       "    function now() {\n",
       "      return new Date();\n",
       "    }\n",
       "  \n",
       "    if (typeof (window._bokeh_onload_callbacks) === \"undefined\") {\n",
       "      window._bokeh_onload_callbacks = [];\n",
       "    }\n",
       "  \n",
       "    function run_callbacks() {\n",
       "      window._bokeh_onload_callbacks.forEach(function(callback) { callback() });\n",
       "      delete window._bokeh_onload_callbacks\n",
       "      console.info(\"Bokeh: all callbacks have finished\");\n",
       "    }\n",
       "  \n",
       "    function load_libs(js_urls, callback) {\n",
       "      window._bokeh_onload_callbacks.push(callback);\n",
       "      if (window._bokeh_is_loading > 0) {\n",
       "        console.log(\"Bokeh: BokehJS is being loaded, scheduling callback at\", now());\n",
       "        return null;\n",
       "      }\n",
       "      if (js_urls == null || js_urls.length === 0) {\n",
       "        run_callbacks();\n",
       "        return null;\n",
       "      }\n",
       "      console.log(\"Bokeh: BokehJS not loaded, scheduling load and callback at\", now());\n",
       "      window._bokeh_is_loading = js_urls.length;\n",
       "      for (var i = 0; i < js_urls.length; i++) {\n",
       "        var url = js_urls[i];\n",
       "        var s = document.createElement('script');\n",
       "        s.src = url;\n",
       "        s.async = false;\n",
       "        s.onreadystatechange = s.onload = function() {\n",
       "          window._bokeh_is_loading--;\n",
       "          if (window._bokeh_is_loading === 0) {\n",
       "            console.log(\"Bokeh: all BokehJS libraries loaded\");\n",
       "            run_callbacks()\n",
       "          }\n",
       "        };\n",
       "        s.onerror = function() {\n",
       "          console.warn(\"failed to load library \" + url);\n",
       "        };\n",
       "        console.log(\"Bokeh: injecting script tag for BokehJS library: \", url);\n",
       "        document.getElementsByTagName(\"head\")[0].appendChild(s);\n",
       "      }\n",
       "    };var element = document.getElementById(\"c3f91961-a5cd-4745-b384-eb636404c1fe\");\n",
       "    if (element == null) {\n",
       "      console.log(\"Bokeh: ERROR: autoload.js configured with elementid 'c3f91961-a5cd-4745-b384-eb636404c1fe' but no matching script tag was found. \")\n",
       "      return false;\n",
       "    }var js_urls = [];\n",
       "  \n",
       "    var inline_js = [\n",
       "      function(Bokeh) {\n",
       "        Bokeh.$(function() {\n",
       "            var docs_json = {\"b7959345-55a7-4055-a014-4075bb6756ee\": {\"version\": \"0.11.0\", \"roots\": {\"root_ids\": [\"7107dc8c-4cf0-4bd4-9f0c-7785239f0353\"], \"references\": [{\"attributes\": {\"line_color\": {\"value\": \"#1f77b4\"}, \"line_alpha\": {\"value\": 0.1}, \"y\": {\"field\": \"y\"}, \"x\": {\"field\": \"x\"}}, \"type\": \"Line\", \"id\": \"150db9e5-18c4-47b9-a823-8a5e44674342\"}, {\"attributes\": {\"line_color\": {\"value\": \"black\"}, \"line_alpha\": {\"value\": 1.0}, \"render_mode\": \"css\", \"bottom_units\": \"screen\", \"level\": \"overlay\", \"top_units\": \"screen\", \"fill_alpha\": {\"value\": 0.5}, \"plot\": null, \"left_units\": \"screen\", \"line_dash\": [4, 4], \"line_width\": {\"value\": 2}, \"right_units\": \"screen\", \"fill_color\": {\"value\": \"lightgrey\"}}, \"type\": \"BoxAnnotation\", \"id\": \"dbc379cc-ef02-4922-9ccc-09b1b774a108\"}, {\"attributes\": {\"callback\": null}, \"type\": \"DataRange1d\", \"id\": \"acfc1fd0-77b5-472d-838f-c5a0d71549c4\"}, {\"attributes\": {\"callback\": null, \"column_names\": [\"y0\", \"x\", \"y\", \"x\"], \"data\": {\"y\": [], \"x\": [], \"y0\": []}}, \"type\": \"ColumnDataSource\", \"id\": \"45011126-427b-4d9b-8fc7-c81cda369bb2\"}, {\"attributes\": {}, \"type\": \"BasicTickFormatter\", \"id\": \"3a43e8fa-8315-4a1d-8745-d3253c181973\"}, {\"attributes\": {}, \"type\": \"BasicTicker\", \"id\": \"7578d8ee-34ac-41c2-86e4-aa84b5b6fa43\"}, {\"attributes\": {}, \"type\": \"ToolEvents\", \"id\": \"fd0607c1-bca8-45a3-9e07-90dbb89ad4b8\"}, {\"attributes\": {\"nonselection_glyph\": {\"type\": \"Line\", \"id\": \"150db9e5-18c4-47b9-a823-8a5e44674342\"}, \"data_source\": {\"type\": \"ColumnDataSource\", \"id\": \"45011126-427b-4d9b-8fc7-c81cda369bb2\"}, \"selection_glyph\": null, \"hover_glyph\": null, \"glyph\": {\"type\": \"Line\", \"id\": \"6254241d-58db-4a66-bd6f-3ec28c93e206\"}}, \"type\": \"GlyphRenderer\", \"id\": \"9bfc6e19-40eb-479d-8491-77664159722b\"}, {\"attributes\": {\"plot\": {\"subtype\": \"Figure\", \"type\": \"Plot\", \"id\": \"7107dc8c-4cf0-4bd4-9f0c-7785239f0353\"}, \"axis_label\": \"Cost\", \"formatter\": {\"type\": \"BasicTickFormatter\", \"id\": \"af33e875-f7b9-4923-af15-b47419060a71\"}, \"ticker\": {\"type\": \"BasicTicker\", \"id\": \"7578d8ee-34ac-41c2-86e4-aa84b5b6fa43\"}}, \"type\": \"LinearAxis\", \"id\": \"21587778-7a5e-4154-a424-be171a51495e\"}, {\"attributes\": {\"plot\": {\"subtype\": \"Figure\", \"type\": \"Plot\", \"id\": \"7107dc8c-4cf0-4bd4-9f0c-7785239f0353\"}}, \"type\": \"ResizeTool\", \"id\": \"02a6d9e4-954c-4e56-a1d2-1fb46e8ef482\"}, {\"attributes\": {\"callback\": null, \"column_names\": [\"y0\", \"x\", \"y\", \"x\"], \"data\": {\"y\": [], \"x\": [], \"y0\": []}}, \"type\": \"ColumnDataSource\", \"id\": \"df2090d2-48a1-49da-8b68-3e985c22e4a8\"}, {\"attributes\": {\"x_range\": {\"type\": \"Range1d\", \"id\": \"00b24245-fd29-4af0-b645-590da3a146af\"}, \"name\": \"cost\", \"y_range\": {\"type\": \"DataRange1d\", \"id\": \"acfc1fd0-77b5-472d-838f-c5a0d71549c4\"}, \"renderers\": [{\"type\": \"LinearAxis\", \"id\": \"29e54b3a-acce-4664-9c65-1272364a8f8b\"}, {\"type\": \"Grid\", \"id\": \"2141fb88-9a03-4f06-8d30-958c4d39f429\"}, {\"type\": \"LinearAxis\", \"id\": \"21587778-7a5e-4154-a424-be171a51495e\"}, {\"type\": \"Grid\", \"id\": \"83763092-4f98-44ba-a732-46364520a2a6\"}, {\"type\": \"BoxAnnotation\", \"id\": \"dbc379cc-ef02-4922-9ccc-09b1b774a108\"}, {\"type\": \"GlyphRenderer\", \"id\": \"38369476-c5c4-4940-b124-b934ea50beca\"}, {\"type\": \"GlyphRenderer\", \"id\": \"9bfc6e19-40eb-479d-8491-77664159722b\"}], \"plot_width\": 400, \"below\": [{\"type\": \"LinearAxis\", \"id\": \"29e54b3a-acce-4664-9c65-1272364a8f8b\"}], \"tool_events\": {\"type\": \"ToolEvents\", \"id\": \"fd0607c1-bca8-45a3-9e07-90dbb89ad4b8\"}, \"plot_height\": 300, \"tools\": [{\"type\": \"PanTool\", \"id\": \"aafa861f-b39b-4cdb-a344-e1f3266198d2\"}, {\"type\": \"WheelZoomTool\", \"id\": \"80ce9700-74f6-4785-b9db-3efd9bb093d7\"}, {\"type\": \"BoxZoomTool\", \"id\": \"c50e1c2a-2033-4138-b296-5323f36395b1\"}, {\"type\": \"PreviewSaveTool\", \"id\": \"37eefbcd-c6ac-45fa-8191-998626763cdd\"}, {\"type\": \"ResizeTool\", \"id\": \"02a6d9e4-954c-4e56-a1d2-1fb46e8ef482\"}, {\"type\": \"ResetTool\", \"id\": \"685a735f-b48b-492b-8ca1-96b249233675\"}, {\"type\": \"HelpTool\", \"id\": \"ea8a19a4-c162-4aac-bb2f-7a9ce5330c00\"}], \"left\": [{\"type\": \"LinearAxis\", \"id\": \"21587778-7a5e-4154-a424-be171a51495e\"}]}, \"type\": \"Plot\", \"id\": \"7107dc8c-4cf0-4bd4-9f0c-7785239f0353\", \"subtype\": \"Figure\"}, {\"attributes\": {\"line_color\": {\"value\": \"red\"}, \"x\": {\"field\": \"x\"}, \"y\": {\"field\": \"y\"}}, \"type\": \"Line\", \"id\": \"6254241d-58db-4a66-bd6f-3ec28c93e206\"}, {\"attributes\": {\"plot\": {\"subtype\": \"Figure\", \"type\": \"Plot\", \"id\": \"7107dc8c-4cf0-4bd4-9f0c-7785239f0353\"}, \"axis_label\": \"Epoch\", \"formatter\": {\"type\": \"BasicTickFormatter\", \"id\": \"3a43e8fa-8315-4a1d-8745-d3253c181973\"}, \"ticker\": {\"type\": \"BasicTicker\", \"id\": \"c6a7157a-127c-47dd-947b-4d2a4c8b65cc\"}}, \"type\": \"LinearAxis\", \"id\": \"29e54b3a-acce-4664-9c65-1272364a8f8b\"}, {\"attributes\": {\"callback\": null}, \"type\": \"Range1d\", \"id\": \"00b24245-fd29-4af0-b645-590da3a146af\"}, {\"attributes\": {}, \"type\": \"BasicTicker\", \"id\": \"c6a7157a-127c-47dd-947b-4d2a4c8b65cc\"}, {\"attributes\": {\"plot\": {\"subtype\": \"Figure\", \"type\": \"Plot\", \"id\": \"7107dc8c-4cf0-4bd4-9f0c-7785239f0353\"}}, \"type\": \"PanTool\", \"id\": \"aafa861f-b39b-4cdb-a344-e1f3266198d2\"}, {\"attributes\": {\"plot\": {\"subtype\": \"Figure\", \"type\": \"Plot\", \"id\": \"7107dc8c-4cf0-4bd4-9f0c-7785239f0353\"}}, \"type\": \"PreviewSaveTool\", \"id\": \"37eefbcd-c6ac-45fa-8191-998626763cdd\"}, {\"attributes\": {}, \"type\": \"BasicTickFormatter\", \"id\": \"af33e875-f7b9-4923-af15-b47419060a71\"}, {\"attributes\": {\"plot\": {\"subtype\": \"Figure\", \"type\": \"Plot\", \"id\": \"7107dc8c-4cf0-4bd4-9f0c-7785239f0353\"}, \"ticker\": {\"type\": \"BasicTicker\", \"id\": \"7578d8ee-34ac-41c2-86e4-aa84b5b6fa43\"}, \"dimension\": 1}, \"type\": \"Grid\", \"id\": \"83763092-4f98-44ba-a732-46364520a2a6\"}, {\"attributes\": {\"plot\": {\"subtype\": \"Figure\", \"type\": \"Plot\", \"id\": \"7107dc8c-4cf0-4bd4-9f0c-7785239f0353\"}}, \"type\": \"ResetTool\", \"id\": \"685a735f-b48b-492b-8ca1-96b249233675\"}, {\"attributes\": {\"line_color\": {\"value\": \"#1f77b4\"}, \"line_alpha\": {\"value\": 0.1}, \"y\": {\"field\": \"y\"}, \"x\": {\"field\": \"x\"}}, \"type\": \"Line\", \"id\": \"6aee13b2-53eb-49a3-aa8b-a5b81772bb62\"}, {\"attributes\": {\"nonselection_glyph\": {\"type\": \"Line\", \"id\": \"6aee13b2-53eb-49a3-aa8b-a5b81772bb62\"}, \"data_source\": {\"type\": \"ColumnDataSource\", \"id\": \"df2090d2-48a1-49da-8b68-3e985c22e4a8\"}, \"selection_glyph\": null, \"hover_glyph\": null, \"glyph\": {\"type\": \"Line\", \"id\": \"2e2a82db-fa28-49bf-a04c-8f338588a5d8\"}}, \"type\": \"GlyphRenderer\", \"id\": \"38369476-c5c4-4940-b124-b934ea50beca\"}, {\"attributes\": {\"plot\": {\"subtype\": \"Figure\", \"type\": \"Plot\", \"id\": \"7107dc8c-4cf0-4bd4-9f0c-7785239f0353\"}, \"overlay\": {\"type\": \"BoxAnnotation\", \"id\": \"dbc379cc-ef02-4922-9ccc-09b1b774a108\"}}, \"type\": \"BoxZoomTool\", \"id\": \"c50e1c2a-2033-4138-b296-5323f36395b1\"}, {\"attributes\": {\"plot\": {\"subtype\": \"Figure\", \"type\": \"Plot\", \"id\": \"7107dc8c-4cf0-4bd4-9f0c-7785239f0353\"}}, \"type\": \"WheelZoomTool\", \"id\": \"80ce9700-74f6-4785-b9db-3efd9bb093d7\"}, {\"attributes\": {\"line_color\": {\"value\": \"#1f77b4\"}, \"x\": {\"field\": \"x\"}, \"y\": {\"field\": \"y\"}}, \"type\": \"Line\", \"id\": \"2e2a82db-fa28-49bf-a04c-8f338588a5d8\"}, {\"attributes\": {\"plot\": {\"subtype\": \"Figure\", \"type\": \"Plot\", \"id\": \"7107dc8c-4cf0-4bd4-9f0c-7785239f0353\"}, \"ticker\": {\"type\": \"BasicTicker\", \"id\": \"c6a7157a-127c-47dd-947b-4d2a4c8b65cc\"}}, \"type\": \"Grid\", \"id\": \"2141fb88-9a03-4f06-8d30-958c4d39f429\"}, {\"attributes\": {\"plot\": {\"subtype\": \"Figure\", \"type\": \"Plot\", \"id\": \"7107dc8c-4cf0-4bd4-9f0c-7785239f0353\"}}, \"type\": \"HelpTool\", \"id\": \"ea8a19a4-c162-4aac-bb2f-7a9ce5330c00\"}]}, \"title\": \"Bokeh Application\"}};\n",
       "            var render_items = [{\"notebook_comms_target\": \"93810eae-7b13-4c00-aa48-d37d75e27a3f\", \"docid\": \"b7959345-55a7-4055-a014-4075bb6756ee\", \"elementid\": \"c3f91961-a5cd-4745-b384-eb636404c1fe\", \"modelid\": \"7107dc8c-4cf0-4bd4-9f0c-7785239f0353\"}];\n",
       "            \n",
       "            Bokeh.embed.embed_items(docs_json, render_items);\n",
       "        });\n",
       "      },\n",
       "      function(Bokeh) {\n",
       "      }\n",
       "    ];\n",
       "  \n",
       "    function run_inline_js() {\n",
       "      for (var i = 0; i < inline_js.length; i++) {\n",
       "        inline_js[i](window.Bokeh);\n",
       "      }\n",
       "    }\n",
       "  \n",
       "    if (window._bokeh_is_loading === 0) {\n",
       "      console.log(\"Bokeh: BokehJS loaded, going straight to plotting\");\n",
       "      run_inline_js();\n",
       "    } else {\n",
       "      load_libs(js_urls, function() {\n",
       "        console.log(\"Bokeh: BokehJS plotting callback run at\", now());\n",
       "        run_inline_js();\n",
       "      });\n",
       "    }\n",
       "  }(this));\n",
       "</script>"
      ]
     },
     "metadata": {},
     "output_type": "display_data"
    },
    {
     "name": "stdout",
     "output_type": "stream",
     "text": [
      "Epoch 0   [Train |████████████████████|  157/157  batches, 0.53 cost, 28.40s]\n",
      "Accuracy - [ 82.56861877]\n"
     ]
    },
    {
     "data": {
      "text/plain": [
       "array([ 82.56861877], dtype=float32)"
      ]
     },
     "execution_count": 3,
     "metadata": {},
     "output_type": "execute_result"
    }
   ],
   "source": [
    "train_model(learning_rate=f1.value)"
   ]
  },
  {
   "cell_type": "code",
   "execution_count": null,
   "metadata": {
    "collapsed": true
   },
   "outputs": [],
   "source": []
  }
 ],
 "metadata": {
  "kernelspec": {
   "display_name": "Python 2",
   "language": "python",
   "name": "python2"
  },
  "language_info": {
   "codemirror_mode": {
    "name": "ipython",
    "version": 2
   },
   "file_extension": ".py",
   "mimetype": "text/x-python",
   "name": "python",
   "nbconvert_exporter": "python",
   "pygments_lexer": "ipython2",
   "version": "2.7.6"
  },
  "widgets": {
   "state": {
    "bd6f6b46e5a34ebc94e2633270188b8a": {
     "views": [
      {
       "cell_index": 2
      }
     ]
    }
   },
   "version": "1.2.0"
  }
 },
 "nbformat": 4,
 "nbformat_minor": 0
}
